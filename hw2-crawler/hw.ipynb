{
 "cells": [
  {
   "cell_type": "markdown",
   "id": "e5c4c1f3-3a4b-4907-93ab-2ae5f200a951",
   "metadata": {},
   "source": [
    "Для этой домашней работы я взяла 12 детских сказок разных авторов."
   ]
  },
  {
   "cell_type": "markdown",
   "id": "20ed8727-c409-44d5-89eb-13fed497c617",
   "metadata": {},
   "source": [
    "Импорты:"
   ]
  },
  {
   "cell_type": "code",
   "execution_count": 243,
   "id": "8ba90c8f-4dbd-4b1f-95af-17926dd63286",
   "metadata": {},
   "outputs": [],
   "source": [
    "import os\n",
    "from pymystem3 import Mystem\n",
    "\n",
    "import nltk\n",
    "from nltk.tokenize import sent_tokenize\n",
    "from nltk.corpus import stopwords\n",
    "from nltk.tokenize import word_tokenize\n",
    "\n",
    "import gensim\n",
    "import logging\n",
    "\n",
    "import zipfile\n",
    "import wget\n",
    "\n",
    "import matplotlib.pyplot as plt\n",
    "from sklearn.decomposition import PCA\n",
    "\n",
    "from pymorphy2 import MorphAnalyzer\n",
    "\n",
    "from sklearn.feature_extraction.text import TfidfVectorizer\n",
    "import numpy as np\n",
    "import pandas as pd\n",
    "\n",
    "import sklearn\n",
    "from sklearn.metrics.pairwise import cosine_similarity\n",
    "\n",
    "import seaborn as sns"
   ]
  },
  {
   "cell_type": "markdown",
   "id": "6f8d1c35-dc7e-4d04-82d1-7b076d6ab5dd",
   "metadata": {},
   "source": [
    "### 1 часть. Подготовка текстов"
   ]
  },
  {
   "cell_type": "code",
   "execution_count": 208,
   "id": "24e0d0d1-31bd-449a-a06a-77c5c041a018",
   "metadata": {},
   "outputs": [],
   "source": [
    "m = Mystem() #класс для дальнейшей лемматизации\n",
    "sw = stopwords.words('russian') #стоп-слова\n",
    "\n",
    "files = os.listdir('./texts')\n",
    "for fname in files: \n",
    "    with open(f'./texts/{fname}', 'r', encoding = 'utf-8') as f:\n",
    "        text = f.read()\n",
    "        #делим текст на предложения\n",
    "        sentences = sent_tokenize(text)\n",
    "        for sent in sentences:\n",
    "            lemmas = m.lemmatize(sent)\n",
    "            #убираем пунктуацию и приводим все к строчному написанию\n",
    "            words = [w.lower() for w in lemmas if w.isalpha()]\n",
    "            #убираем стоп-слова\n",
    "            filtered = [w for w in words if w not in sw]\n",
    "            result = ' '.join(filtered)\n",
    "            \n",
    "            #открываем файл, в который будем записывать по предложению \n",
    "            #обработанные тексты для каждой из сказок\n",
    "            with open('ready.txt', 'a', encoding = 'utf-8') as f:\n",
    "                f.write(result)\n",
    "                f.write(\"\\n\")"
   ]
  },
  {
   "cell_type": "markdown",
   "id": "34e62753-4dbf-4041-8c2a-6107cfadcb24",
   "metadata": {},
   "source": [
    "### 2 часть. Обучение модели"
   ]
  },
  {
   "cell_type": "markdown",
   "id": "a109e5af-7093-4f5b-a06e-39274d791b08",
   "metadata": {},
   "source": [
    "**1. Обучите модель как показано в конспекте по word2vec с параметрами...**\n",
    "\n",
    "- размер вектора 300\n",
    "- минимальное количество вхождений 5\n",
    "- окно 5\n",
    "- количество итераций 50"
   ]
  },
  {
   "cell_type": "code",
   "execution_count": 209,
   "id": "9248b760-776f-403b-b8f4-74883959fbc4",
   "metadata": {},
   "outputs": [
    {
     "name": "stderr",
     "output_type": "stream",
     "text": [
      "2022-11-15 23:15:42,717 : INFO : collecting all words and their counts\n",
      "2022-11-15 23:15:42,720 : INFO : PROGRESS: at sentence #0, processed 0 words, keeping 0 word types\n",
      "2022-11-15 23:15:42,788 : INFO : PROGRESS: at sentence #10000, processed 74793 words, keeping 11367 word types\n",
      "2022-11-15 23:15:42,829 : INFO : PROGRESS: at sentence #20000, processed 126028 words, keeping 14211 word types\n",
      "2022-11-15 23:15:42,874 : INFO : PROGRESS: at sentence #30000, processed 182440 words, keeping 17135 word types\n",
      "2022-11-15 23:15:42,910 : INFO : PROGRESS: at sentence #40000, processed 231815 words, keeping 18500 word types\n",
      "2022-11-15 23:15:42,921 : INFO : collected 19086 word types from a corpus of 243796 raw words and 42492 sentences\n",
      "2022-11-15 23:15:42,922 : INFO : Creating a fresh vocabulary\n",
      "2022-11-15 23:15:42,954 : INFO : Word2Vec lifecycle event {'msg': 'effective_min_count=5 retains 6853 unique words (35.91% of original 19086, drops 12233)', 'datetime': '2022-11-15T23:15:42.954665', 'gensim': '4.2.0', 'python': '3.9.7 (v3.9.7:1016ef3790, Aug 30 2021, 16:39:15) \\n[Clang 6.0 (clang-600.0.57)]', 'platform': 'macOS-10.16-x86_64-i386-64bit', 'event': 'prepare_vocab'}\n",
      "2022-11-15 23:15:42,955 : INFO : Word2Vec lifecycle event {'msg': 'effective_min_count=5 leaves 222039 word corpus (91.08% of original 243796, drops 21757)', 'datetime': '2022-11-15T23:15:42.955658', 'gensim': '4.2.0', 'python': '3.9.7 (v3.9.7:1016ef3790, Aug 30 2021, 16:39:15) \\n[Clang 6.0 (clang-600.0.57)]', 'platform': 'macOS-10.16-x86_64-i386-64bit', 'event': 'prepare_vocab'}\n",
      "2022-11-15 23:15:43,002 : INFO : deleting the raw counts dictionary of 19086 items\n",
      "2022-11-15 23:15:43,003 : INFO : sample=0.001 downsamples 30 most-common words\n",
      "2022-11-15 23:15:43,004 : INFO : Word2Vec lifecycle event {'msg': 'downsampling leaves estimated 213324.81808412154 word corpus (96.1%% of prior 222039)', 'datetime': '2022-11-15T23:15:43.004064', 'gensim': '4.2.0', 'python': '3.9.7 (v3.9.7:1016ef3790, Aug 30 2021, 16:39:15) \\n[Clang 6.0 (clang-600.0.57)]', 'platform': 'macOS-10.16-x86_64-i386-64bit', 'event': 'prepare_vocab'}\n",
      "2022-11-15 23:15:43,079 : INFO : estimated required memory for 6853 words and 300 dimensions: 19873700 bytes\n",
      "2022-11-15 23:15:43,080 : INFO : resetting layer weights\n",
      "2022-11-15 23:15:43,095 : INFO : Word2Vec lifecycle event {'update': False, 'trim_rule': 'None', 'datetime': '2022-11-15T23:15:43.095441', 'gensim': '4.2.0', 'python': '3.9.7 (v3.9.7:1016ef3790, Aug 30 2021, 16:39:15) \\n[Clang 6.0 (clang-600.0.57)]', 'platform': 'macOS-10.16-x86_64-i386-64bit', 'event': 'build_vocab'}\n",
      "2022-11-15 23:15:43,096 : INFO : Word2Vec lifecycle event {'msg': 'training model with 3 workers on 6853 vocabulary and 300 features, using sg=0 hs=0 sample=0.001 negative=5 window=5 shrink_windows=True', 'datetime': '2022-11-15T23:15:43.096386', 'gensim': '4.2.0', 'python': '3.9.7 (v3.9.7:1016ef3790, Aug 30 2021, 16:39:15) \\n[Clang 6.0 (clang-600.0.57)]', 'platform': 'macOS-10.16-x86_64-i386-64bit', 'event': 'train'}\n",
      "2022-11-15 23:15:44,106 : INFO : EPOCH 0 - PROGRESS: at 93.17% examples, 200824 words/s, in_qsize 2, out_qsize 1\n",
      "2022-11-15 23:15:44,115 : INFO : EPOCH 0: training on 243796 raw words (213185 effective words) took 1.0s, 210913 effective words/s\n",
      "2022-11-15 23:15:44,435 : INFO : EPOCH 1: training on 243796 raw words (213256 effective words) took 0.3s, 671324 effective words/s\n",
      "2022-11-15 23:15:44,748 : INFO : EPOCH 2: training on 243796 raw words (213319 effective words) took 0.3s, 685547 effective words/s\n",
      "2022-11-15 23:15:45,064 : INFO : EPOCH 3: training on 243796 raw words (213174 effective words) took 0.3s, 678375 effective words/s\n",
      "2022-11-15 23:15:45,390 : INFO : EPOCH 4: training on 243796 raw words (213218 effective words) took 0.3s, 658556 effective words/s\n",
      "2022-11-15 23:15:45,882 : INFO : EPOCH 5: training on 243796 raw words (213234 effective words) took 0.5s, 434968 effective words/s\n",
      "2022-11-15 23:15:46,206 : INFO : EPOCH 6: training on 243796 raw words (213393 effective words) took 0.3s, 662752 effective words/s\n",
      "2022-11-15 23:15:46,541 : INFO : EPOCH 7: training on 243796 raw words (213379 effective words) took 0.3s, 657905 effective words/s\n",
      "2022-11-15 23:15:46,858 : INFO : EPOCH 8: training on 243796 raw words (213383 effective words) took 0.3s, 678339 effective words/s\n",
      "2022-11-15 23:15:47,190 : INFO : EPOCH 9: training on 243796 raw words (213335 effective words) took 0.3s, 672330 effective words/s\n",
      "2022-11-15 23:15:47,692 : INFO : EPOCH 10: training on 243796 raw words (213342 effective words) took 0.5s, 434003 effective words/s\n",
      "2022-11-15 23:15:48,015 : INFO : EPOCH 11: training on 243796 raw words (213415 effective words) took 0.3s, 665347 effective words/s\n",
      "2022-11-15 23:15:48,353 : INFO : EPOCH 12: training on 243796 raw words (213283 effective words) took 0.3s, 634973 effective words/s\n",
      "2022-11-15 23:15:48,692 : INFO : EPOCH 13: training on 243796 raw words (213298 effective words) took 0.3s, 634399 effective words/s\n",
      "2022-11-15 23:15:49,038 : INFO : EPOCH 14: training on 243796 raw words (213279 effective words) took 0.3s, 618425 effective words/s\n",
      "2022-11-15 23:15:49,640 : INFO : EPOCH 15: training on 243796 raw words (213323 effective words) took 0.6s, 355856 effective words/s\n",
      "2022-11-15 23:15:50,066 : INFO : EPOCH 16: training on 243796 raw words (213336 effective words) took 0.4s, 503782 effective words/s\n",
      "2022-11-15 23:15:50,403 : INFO : EPOCH 17: training on 243796 raw words (213271 effective words) took 0.3s, 637825 effective words/s\n",
      "2022-11-15 23:15:50,747 : INFO : EPOCH 18: training on 243796 raw words (213339 effective words) took 0.3s, 634340 effective words/s\n",
      "2022-11-15 23:15:51,129 : INFO : EPOCH 19: training on 243796 raw words (213263 effective words) took 0.4s, 565174 effective words/s\n",
      "2022-11-15 23:15:51,498 : INFO : EPOCH 20: training on 243796 raw words (213230 effective words) took 0.4s, 581733 effective words/s\n",
      "2022-11-15 23:15:52,005 : INFO : EPOCH 21: training on 243796 raw words (213275 effective words) took 0.5s, 422607 effective words/s\n",
      "2022-11-15 23:15:52,355 : INFO : EPOCH 22: training on 243796 raw words (213371 effective words) took 0.3s, 616679 effective words/s\n",
      "2022-11-15 23:15:52,728 : INFO : EPOCH 23: training on 243796 raw words (213438 effective words) took 0.4s, 577161 effective words/s\n",
      "2022-11-15 23:15:53,095 : INFO : EPOCH 24: training on 243796 raw words (213271 effective words) took 0.4s, 583845 effective words/s\n",
      "2022-11-15 23:15:53,468 : INFO : EPOCH 25: training on 243796 raw words (213359 effective words) took 0.4s, 576546 effective words/s\n",
      "2022-11-15 23:15:54,001 : INFO : EPOCH 26: training on 243796 raw words (213381 effective words) took 0.5s, 401850 effective words/s\n",
      "2022-11-15 23:15:54,455 : INFO : EPOCH 27: training on 243796 raw words (213263 effective words) took 0.5s, 472547 effective words/s\n",
      "2022-11-15 23:15:54,922 : INFO : EPOCH 28: training on 243796 raw words (213257 effective words) took 0.5s, 459638 effective words/s\n",
      "2022-11-15 23:15:55,395 : INFO : EPOCH 29: training on 243796 raw words (213343 effective words) took 0.5s, 456912 effective words/s\n",
      "2022-11-15 23:15:55,770 : INFO : EPOCH 30: training on 243796 raw words (213319 effective words) took 0.4s, 573202 effective words/s\n",
      "2022-11-15 23:15:56,156 : INFO : EPOCH 31: training on 243796 raw words (213407 effective words) took 0.4s, 555739 effective words/s\n",
      "2022-11-15 23:15:56,739 : INFO : EPOCH 32: training on 243796 raw words (213365 effective words) took 0.6s, 368383 effective words/s\n",
      "2022-11-15 23:15:57,115 : INFO : EPOCH 33: training on 243796 raw words (213273 effective words) took 0.4s, 570752 effective words/s\n",
      "2022-11-15 23:15:57,566 : INFO : EPOCH 34: training on 243796 raw words (213349 effective words) took 0.4s, 475595 effective words/s\n",
      "2022-11-15 23:15:57,939 : INFO : EPOCH 35: training on 243796 raw words (213321 effective words) took 0.4s, 576085 effective words/s\n",
      "2022-11-15 23:15:58,491 : INFO : EPOCH 36: training on 243796 raw words (213363 effective words) took 0.5s, 388276 effective words/s\n",
      "2022-11-15 23:15:58,883 : INFO : EPOCH 37: training on 243796 raw words (213313 effective words) took 0.4s, 547754 effective words/s\n",
      "2022-11-15 23:15:59,253 : INFO : EPOCH 38: training on 243796 raw words (213400 effective words) took 0.4s, 582724 effective words/s\n",
      "2022-11-15 23:15:59,623 : INFO : EPOCH 39: training on 243796 raw words (213293 effective words) took 0.4s, 598081 effective words/s\n",
      "2022-11-15 23:16:00,058 : INFO : EPOCH 40: training on 243796 raw words (213223 effective words) took 0.4s, 493441 effective words/s\n",
      "2022-11-15 23:16:00,535 : INFO : EPOCH 41: training on 243796 raw words (213217 effective words) took 0.5s, 453680 effective words/s\n",
      "2022-11-15 23:16:01,410 : INFO : EPOCH 42: training on 243796 raw words (213276 effective words) took 0.9s, 244322 effective words/s\n",
      "2022-11-15 23:16:01,874 : INFO : EPOCH 43: training on 243796 raw words (213292 effective words) took 0.5s, 464397 effective words/s\n",
      "2022-11-15 23:16:02,353 : INFO : EPOCH 44: training on 243796 raw words (213373 effective words) took 0.5s, 447976 effective words/s\n",
      "2022-11-15 23:16:02,765 : INFO : EPOCH 45: training on 243796 raw words (213230 effective words) took 0.4s, 521253 effective words/s\n",
      "2022-11-15 23:16:03,201 : INFO : EPOCH 46: training on 243796 raw words (213368 effective words) took 0.4s, 492426 effective words/s\n",
      "2022-11-15 23:16:03,666 : INFO : EPOCH 47: training on 243796 raw words (213328 effective words) took 0.5s, 461487 effective words/s\n",
      "2022-11-15 23:16:04,392 : INFO : EPOCH 48: training on 243796 raw words (213284 effective words) took 0.7s, 294942 effective words/s\n",
      "2022-11-15 23:16:05,152 : INFO : EPOCH 49: training on 243796 raw words (213405 effective words) took 0.8s, 281843 effective words/s\n",
      "2022-11-15 23:16:05,153 : INFO : Word2Vec lifecycle event {'msg': 'training on 12189800 raw words (10665612 effective words) took 22.1s, 483550 effective words/s', 'datetime': '2022-11-15T23:16:05.153808', 'gensim': '4.2.0', 'python': '3.9.7 (v3.9.7:1016ef3790, Aug 30 2021, 16:39:15) \\n[Clang 6.0 (clang-600.0.57)]', 'platform': 'macOS-10.16-x86_64-i386-64bit', 'event': 'train'}\n",
      "2022-11-15 23:16:05,154 : INFO : Word2Vec lifecycle event {'params': 'Word2Vec<vocab=6853, vector_size=300, alpha=0.025>', 'datetime': '2022-11-15T23:16:05.154577', 'gensim': '4.2.0', 'python': '3.9.7 (v3.9.7:1016ef3790, Aug 30 2021, 16:39:15) \\n[Clang 6.0 (clang-600.0.57)]', 'platform': 'macOS-10.16-x86_64-i386-64bit', 'event': 'created'}\n"
     ]
    }
   ],
   "source": [
    "logging.basicConfig(format='%(asctime)s : %(levelname)s : %(message)s', level=logging.INFO)\n",
    "\n",
    "f = \"ready.txt\"\n",
    "data = gensim.models.word2vec.LineSentence(f)\n",
    "model_tales = gensim.models.Word2Vec(data, vector_size=300, window=5, min_count=5, epochs=50)"
   ]
  },
  {
   "cell_type": "markdown",
   "id": "e8f14d93-d5d3-4975-9fa2-7312140a7da4",
   "metadata": {},
   "source": [
    "**2. Сколько слов оказалось в словаре? Это много или мало?**"
   ]
  },
  {
   "cell_type": "code",
   "execution_count": 210,
   "id": "fda97b47-8aa1-4e28-aeac-4d80bcf3be19",
   "metadata": {},
   "outputs": [
    {
     "name": "stdout",
     "output_type": "stream",
     "text": [
      "6853\n"
     ]
    }
   ],
   "source": [
    "print(len(model_tales.wv.key_to_index))"
   ]
  },
  {
   "cell_type": "markdown",
   "id": "85fabaf0-21a4-4869-95dc-cea7ffb05578",
   "metadata": {},
   "source": [
    "Это очень мало, если сравнивать с размерами корпусов в моделях на RusVectores (которые измеряются в миллионах и миллиардах слов)"
   ]
  },
  {
   "cell_type": "markdown",
   "id": "66272369-0687-42cb-8eee-7db7400546ee",
   "metadata": {},
   "source": [
    "**3 + 4. Найдите ближайшие 10 слов...**\n",
    "\n",
    "- для абстрактного понятия"
   ]
  },
  {
   "cell_type": "code",
   "execution_count": 215,
   "id": "a3b73d18-cd7c-4cf5-a103-19e00593dd8b",
   "metadata": {},
   "outputs": [
    {
     "data": {
      "text/plain": [
       "[('суббота', 0.5760028958320618),\n",
       " ('пятница', 0.5729019641876221),\n",
       " ('сегодня', 0.483368843793869),\n",
       " ('вахтенный', 0.47634968161582947),\n",
       " ('послезавтра', 0.47614550590515137),\n",
       " ('наставать', 0.4361511170864105),\n",
       " ('окончание', 0.426241934299469),\n",
       " ('вова', 0.4154715836048126),\n",
       " ('календарь', 0.40955060720443726),\n",
       " ('видеться', 0.4061753749847412)]"
      ]
     },
     "execution_count": 215,
     "metadata": {},
     "output_type": "execute_result"
    }
   ],
   "source": [
    "model_tales.wv.most_similar('завтра', topn=10)"
   ]
  },
  {
   "cell_type": "markdown",
   "id": "3a5a87d4-f8dd-40d1-b849-4cb15c15af90",
   "metadata": {},
   "source": [
    "Такой результат вполне ожидаем. В числе ближайших соседей оказываются слова, связанные c обозначением дней недели или с понятием времени. Среди неожиданных соседей - 'вова', 'вахтенный'. Синонимов в выдаче нет, антоним - 'сегодня'."
   ]
  },
  {
   "cell_type": "markdown",
   "id": "2ef5f92b-63ee-4a1f-a4a1-632f2b365e2a",
   "metadata": {},
   "source": [
    "- для имени героя"
   ]
  },
  {
   "cell_type": "code",
   "execution_count": 212,
   "id": "00f2da1c-925e-4227-9b59-2fff72284789",
   "metadata": {},
   "outputs": [
    {
     "data": {
      "text/plain": [
       "[('рита', 0.6461926102638245),\n",
       " ('вселяться', 0.5295249223709106),\n",
       " ('кукла', 0.44030559062957764),\n",
       " ('поцеловать', 0.4391626715660095),\n",
       " ('чуланчик', 0.43448036909103394),\n",
       " ('мама', 0.4173473119735718),\n",
       " ('папа', 0.4081573784351349),\n",
       " ('старушка', 0.4079175591468811),\n",
       " ('ванная', 0.39764198660850525),\n",
       " ('ласково', 0.39640486240386963)]"
      ]
     },
     "execution_count": 212,
     "metadata": {},
     "output_type": "execute_result"
    }
   ],
   "source": [
    "model_tales.wv.most_similar('настя', topn=10)"
   ]
  },
  {
   "cell_type": "markdown",
   "id": "65b3e890-6817-4ee9-accb-861cb9caeb5a",
   "metadata": {},
   "source": [
    "Результаты выдачи довольно неожиданны. Среди 'рита', 'мама', 'папа', 'старушка', вполне предсказуемых в роли ближайших слов для имени героя, встречаются слова 'ванная' и 'чуланчик', семантическая близость которых с именем 'настя' кажется неочевидной.  \n",
    "\n",
    "Антонимов и синонимов в ближайших к слову нет (а могут ли они быть у имени собственного?)"
   ]
  },
  {
   "cell_type": "markdown",
   "id": "31817eb6-d569-46f0-9403-522bad9f7818",
   "metadata": {},
   "source": [
    "- для прилагательных хороший и плохой (или других антонимов)"
   ]
  },
  {
   "cell_type": "code",
   "execution_count": 213,
   "id": "50fac4f1-b1e6-4150-a391-546f41e585d0",
   "metadata": {},
   "outputs": [
    {
     "data": {
      "text/plain": [
       "[('плохой', 0.40871861577033997),\n",
       " ('итак', 0.3804191052913666),\n",
       " ('нечестный', 0.3752884566783905),\n",
       " ('жестокий', 0.3625962734222412),\n",
       " ('разрешаться', 0.3588060438632965),\n",
       " ('пригожий', 0.35352227091789246),\n",
       " ('даром', 0.3367367088794708),\n",
       " ('наказывать', 0.33632892370224),\n",
       " ('замечательный', 0.3346986472606659),\n",
       " ('жаловаться', 0.33463358879089355)]"
      ]
     },
     "execution_count": 213,
     "metadata": {},
     "output_type": "execute_result"
    }
   ],
   "source": [
    "model_tales.wv.most_similar('хороший', topn=10)"
   ]
  },
  {
   "cell_type": "markdown",
   "id": "8928dd84-a7c5-456c-b6b6-c872f621add9",
   "metadata": {},
   "source": [
    "Результат вполне соответствует тому, что мы ожидали увидеть. В ближайших соседях прилагательного 'хороший' оказываются слова с положительной и отрицательной оценкой. Из неожиданных соседей - 'итак'. В ближайших к слову есть антоним 'плохой' и синоним (?) 'замечательный'."
   ]
  },
  {
   "cell_type": "code",
   "execution_count": 214,
   "id": "438ea643-6cc3-41ab-9611-47436f04462b",
   "metadata": {},
   "outputs": [
    {
     "data": {
      "text/plain": [
       "[('неплохой', 0.4671472907066345),\n",
       " ('отметка', 0.4516538381576538),\n",
       " ('никудышный', 0.41977444291114807),\n",
       " ('шутка', 0.4133642911911011),\n",
       " ('поделать', 0.41198214888572693),\n",
       " ('хороший', 0.40871867537498474),\n",
       " ('мяукать', 0.4020572304725647),\n",
       " ('подобный', 0.39945387840270996),\n",
       " ('додумываться', 0.39495256543159485),\n",
       " ('считать', 0.3931252062320709)]"
      ]
     },
     "execution_count": 214,
     "metadata": {},
     "output_type": "execute_result"
    }
   ],
   "source": [
    "model_tales.wv.most_similar('плохой', topn=10)"
   ]
  },
  {
   "cell_type": "markdown",
   "id": "d4250522-d304-468c-9361-37a28e100a1d",
   "metadata": {},
   "source": [
    "Результат ожидаем. В выдаче ближайших к слову соседей оказыватся прилагательные с оценкой, существительные, обозначающие объекты которые могут быть оценены как плохие. Из неожиданных соседей - 'мяукать', 'додумываться', 'поделать'. Кроме того среди ближайших к слову встречаются как синонимы ('никудышный'), так и антонимы ('хороший', 'неплохой')."
   ]
  },
  {
   "cell_type": "markdown",
   "id": "238caf00-eced-402c-ad88-2382e03c9d3e",
   "metadata": {},
   "source": [
    "**Говорит ли это что-то о самом корпусе?** \n",
    "\n",
    "Выдача ближайших слов к данным четырем словам позволяет нам судить об особенности языка текстов в корпусе в целом. Тексты, которые были использованы для создания корпуса, представляют собой сказки (не русские народные, а написанные атворами 20-21 вв.). Для них характерен особенный язык: использование характерных речевых оборотов, характерных слов (чуланчик, пригожий, никудышный, старушка). Они в первую очередь предназначены для детей, поэтому язык достаточно простой, без терминов и сложных понятий."
   ]
  },
  {
   "cell_type": "markdown",
   "id": "b063d2fe-5de4-419c-99b6-31cd3c5ee163",
   "metadata": {},
   "source": [
    "**5. Найдите лишнее слово в ряду. Соответствует ли результат ожиданиям или модель ошиблась?**"
   ]
  },
  {
   "cell_type": "code",
   "execution_count": 217,
   "id": "647a3699-bd60-4031-9278-ba928724f50e",
   "metadata": {},
   "outputs": [
    {
     "data": {
      "text/plain": [
       "'мальчик'"
      ]
     },
     "execution_count": 217,
     "metadata": {},
     "output_type": "execute_result"
    }
   ],
   "source": [
    "model_tales.wv.doesnt_match(\"отец мама сестра мальчик бабушка\".split())"
   ]
  },
  {
   "cell_type": "markdown",
   "id": "68af379e-1ce3-4002-a45a-e427c0f11363",
   "metadata": {},
   "source": [
    "Модель не ошиблась. Все слова (кроме 'мальчик') в строке имеют один общий компонент значения - 'родственник'. Несмотря на то что 'мальчик' имеет общие компоненты значения с некоторыми (компонент значения 'мужчина' у слов 'отец', 'мальчик') или со всеми (компонент значения 'человек') словами из строки, он отличается от них всех именно тем, что 'мальчик' - НЕ 'родственник'. Ни у какого другого слова из строки нет такого компонента значения, который отличал бы его от остальных, поэтому модель не ошиблась с выбором лишнего слова.\n",
    "\n",
    "Это потверждается добавлением в строку неодушевленного существительного 'чайник', которое будет отличаться от всех слов в строке отсутствием в значении компонента 'человек':"
   ]
  },
  {
   "cell_type": "code",
   "execution_count": 216,
   "id": "7178c366-ee13-466b-99e9-9265f2789817",
   "metadata": {},
   "outputs": [
    {
     "data": {
      "text/plain": [
       "'чайник'"
      ]
     },
     "execution_count": 216,
     "metadata": {},
     "output_type": "execute_result"
    }
   ],
   "source": [
    "model_tales.wv.doesnt_match(\"отец мама чайник сестра мальчик бабушка\".split())"
   ]
  },
  {
   "cell_type": "markdown",
   "id": "0b26438b-0cc7-4cc3-be99-32c69acf862d",
   "metadata": {},
   "source": [
    "Модель снова верно определила лишнее слово."
   ]
  },
  {
   "cell_type": "markdown",
   "id": "44181bf2-b43b-465e-b27b-478278521452",
   "metadata": {},
   "source": [
    "### 3 часть."
   ]
  },
  {
   "cell_type": "markdown",
   "id": "993124fa-5bc0-49fc-97ab-1e37a5f90bba",
   "metadata": {},
   "source": [
    "#### 3.1. W2V"
   ]
  },
  {
   "cell_type": "markdown",
   "id": "71c42ddf-ed28-4c96-9522-6fb8472e7fa9",
   "metadata": {},
   "source": [
    "**1. Загрузка Word2Vec модели**"
   ]
  },
  {
   "cell_type": "code",
   "execution_count": 219,
   "id": "b1a2f9c0-aa52-4c04-a6f4-e85ae35efa70",
   "metadata": {},
   "outputs": [
    {
     "name": "stdout",
     "output_type": "stream",
     "text": [
      "100% [..................................................] 484452317 / 484452317"
     ]
    }
   ],
   "source": [
    "model_url = 'http://vectors.nlpl.eu/repository/20/180.zip'\n",
    "#загружаем зип файл\n",
    "m = wget.download(model_url)\n",
    "with zipfile.ZipFile('180.zip', 'r') as archive:\n",
    "    #разархивируем\n",
    "    archive.extractall('model180')"
   ]
  },
  {
   "cell_type": "code",
   "execution_count": 220,
   "id": "4e1581d9-52c6-458d-9d14-74a6c32c5223",
   "metadata": {},
   "outputs": [
    {
     "name": "stderr",
     "output_type": "stream",
     "text": [
      "2022-11-15 23:34:23,812 : INFO : loading projection weights from ./model180/model.bin\n",
      "2022-11-15 23:34:25,728 : INFO : KeyedVectors lifecycle event {'msg': 'loaded (189193, 300) matrix of type float32 from ./model180/model.bin', 'binary': True, 'encoding': 'utf8', 'datetime': '2022-11-15T23:34:25.728400', 'gensim': '4.2.0', 'python': '3.9.7 (v3.9.7:1016ef3790, Aug 30 2021, 16:39:15) \\n[Clang 6.0 (clang-600.0.57)]', 'platform': 'macOS-10.16-x86_64-i386-64bit', 'event': 'load_word2vec_format'}\n"
     ]
    }
   ],
   "source": [
    "model = gensim.models.KeyedVectors.load_word2vec_format('./model180/model.bin', binary=True)"
   ]
  },
  {
   "cell_type": "markdown",
   "id": "b2f55073-041a-4dca-9c02-168d09bfa6e3",
   "metadata": {},
   "source": [
    "Примеры данных (смотрим, какие частеречные тэги используются в модели (пригодится в следующих пунктах для создания своих примеров)):"
   ]
  },
  {
   "cell_type": "code",
   "execution_count": 226,
   "id": "1a28b1d0-7e52-49fd-84b5-8a2bcb935de4",
   "metadata": {},
   "outputs": [
    {
     "name": "stdout",
     "output_type": "stream",
     "text": [
      "['так_ADV', 'быть_VERB', 'мочь_VERB', 'год_NOUN', 'человек_NOUN', 'xxxxxx_NUM', 'сказать_VERB', 'еще_ADV', 'один_NUM', 'говорить_VERB', 'уже_ADV', 'другой_ADJ', 'время_NOUN', 'xxxxxxxx_NUM', 'знать_VERB', 'сам_ADJ', 'самый_ADJ', 'делать_VERB', 'дело_NOUN', 'день_NOUN', 'жизнь_NOUN', 'видеть_VERB', 'как_ADV', 'рука_NOUN', 'очень_ADV', 'два_NUM', 'первый_ADJ', 'новый_ADJ', 'давать_VERB', 'где_ADV', 'слово_NOUN', 'становиться_VERB', 'теперь_ADV', 'раз_NOUN', 'должен_ADJ', 'иметь_VERB', 'идти_VERB', 'большой_ADJ', 'там_ADV', 'можно_ADV', 'глаз_NOUN', 'xxxxxxx_NUM', 'лицо_NOUN', 'хотеть_VERB', 'место_NOUN', 'понимать_VERB', 'более_ADV', 'смотреть_VERB', 'потом_ADV', 'каждый_ADJ', 'нет_VERB', 'работа_NOUN', 'казаться_VERB', 'тогда_ADV', 'писать_VERB', 'здесь_ADV', 'тут_ADV', 'голова_NOUN', 'оставаться_VERB', 'надо_ADV', 'сторона_NOUN', 'потому_ADV', 'друг_NOUN', 'спрашивать_VERB', 'думать_VERB', 'брать_VERB', 'начинать_VERB', 'жить_VERB', 'дом_NOUN', 'приходить_VERB', 'выходить_VERB', 'последний_ADJ', 'получать_VERB', 'хороший_ADJ', 'много_ADV', 'сила_NOUN', 'какой-то_ADJ', 'несколько_NUM', 'стоять_VERB', 'нужный_ADJ', 'город_NOUN', 'стать_VERB', 'случай_NOUN', 'сейчас_ADV', 'отвечать_VERB', 'один_ADJ', 'русский_ADJ', 'вопрос_NOUN', 'россия_PROPN', 'мир_NOUN', 'всегда_ADV', 'пойти_VERB', 'принимать_VERB', 'вид_NOUN', 'часть_NOUN', 'три_NUM', 'конец_NOUN', 'что-то_NOUN', 'находить_VERB', 'ребенок_NOUN']\n"
     ]
    }
   ],
   "source": [
    "print([w for w in model.key_to_index][0:100])"
   ]
  },
  {
   "cell_type": "markdown",
   "id": "7293f503-3668-4bcd-90cf-4a94cf2b5e6b",
   "metadata": {},
   "source": [
    "**2. Семантическая пропорция**\n",
    "\n",
    "брат - мужчина + женщина = сестра"
   ]
  },
  {
   "cell_type": "code",
   "execution_count": 228,
   "id": "5beccf08-8fba-4d29-9dd6-f70daf29d058",
   "metadata": {},
   "outputs": [
    {
     "data": {
      "text/plain": [
       "'сестра_NOUN'"
      ]
     },
     "execution_count": 228,
     "metadata": {},
     "output_type": "execute_result"
    }
   ],
   "source": [
    "model.most_similar(positive=['брат_NOUN', 'женщина_NOUN'], negative=['мужчина_NOUN'])[0][0]"
   ]
  },
  {
   "cell_type": "markdown",
   "id": "84e3af04-7c7f-44fd-a860-e62d69c0e66f",
   "metadata": {},
   "source": [
    "**3. Визуализация с помощью PCA названий животных**"
   ]
  },
  {
   "cell_type": "code",
   "execution_count": 229,
   "id": "fae114e6-7129-4256-9bae-bef68ecc7f96",
   "metadata": {},
   "outputs": [
    {
     "data": {
      "image/png": "[encoded data removed]",
      "text/plain": [
       "<Figure size 432x288 with 1 Axes>"
      ]
     },
     "metadata": {
      "needs_background": "light"
     },
     "output_type": "display_data"
    }
   ],
   "source": [
    "words = ['крокодил_NOUN', 'корова_NOUN', 'лягушка_NOUN', 'овца_NOUN', 'лошадь_NOUN', 'слон_NOUN', 'коза_NOUN', 'пони_NOUN']\n",
    "X = model[words]\n",
    "pca = PCA(n_components=2)\n",
    "coords = pca.fit_transform(X)\n",
    "plt.scatter(coords[:, 0], coords[:, 1], color='blue')\n",
    "plt.title('Words')\n",
    "\n",
    "for i, word in enumerate(words):\n",
    "    plt.annotate(word, xy=(coords[i, 0], coords[i, 1]))\n",
    "plt.show()"
   ]
  },
  {
   "cell_type": "markdown",
   "id": "d0719f68-20bf-4c65-b39b-f938234df6b7",
   "metadata": {},
   "source": [
    "Результат, конечно, похож на правду, но не совсем. С одной стороны, вектора названий домашних животных находятся близко друг к другу (в одной области на графике), как и вектора названий экзотических животных. Однако, удивительно, во-первых, что вектор 'лошади' находится на графике так далеко от векторов других домашних животных с копытами, во-вторых, что вектор 'пони' расположен ближе к экзотическим животных, чем к 'лошади'. С точки зрения человеческого жизненного опыта кажется, что вектора этих двух названий должны быть достаточно близко на графике."
   ]
  },
  {
   "cell_type": "markdown",
   "id": "3a7ee376-d6b8-468c-8964-246dfc752c43",
   "metadata": {},
   "source": [
    "**4. Замена слов в предложении на ближайшие по векторам.**"
   ]
  },
  {
   "cell_type": "code",
   "execution_count": 232,
   "id": "1cb95fb7-9c7b-406c-9a9e-f7e989f5e85f",
   "metadata": {},
   "outputs": [
    {
     "name": "stderr",
     "output_type": "stream",
     "text": [
      "2022-11-15 23:43:28,095 : INFO : Loading dictionaries from /Library/Frameworks/Python.framework/Versions/3.9/lib/python3.9/site-packages/pymorphy2_dicts_ru/data\n",
      "2022-11-15 23:43:28,203 : INFO : format: 2.4, revision: 417127, updated: 2020-10-11T15:05:51.070345\n"
     ]
    },
    {
     "name": "stdout",
     "output_type": "stream",
     "text": [
      "низкий школа экономический как и низкий математический иметься мало отдельный с низкий логический \n"
     ]
    }
   ],
   "source": [
    "m = Mystem()\n",
    "morph = MorphAnalyzer()\n",
    "\n",
    "sentence = \"Высшая школа экономики, как и высшая математика, имеет много общего с высшей логикой.\"\n",
    "#предложение может быть немного бессмысленным, поскольку сгенерировано Балабобой\n",
    "sentence_new = '' \n",
    "\n",
    "lemmas = m.lemmatize(sentence)\n",
    "lemmas_filtered = [w.lower() for w in lemmas if w.isalpha()]\n",
    "for w in lemmas_filtered:\n",
    "    #добавляем частеречные теги к словам в нашем предложении, чтобы потом использовать их в most_similar\n",
    "    ana = morph.parse(w)\n",
    "    word_pos = ana[0].tag.POS\n",
    "    \n",
    "    #тэги некоторых частей речи отличаются от тэгов в корпусе в модели, поэтому заменяем их на правильные\n",
    "    if word_pos == 'ADJF':\n",
    "        word_pos = 'ADJ'\n",
    "    elif word_pos == 'INFN':\n",
    "        word_pos = 'VERB'\n",
    "    elif word_pos == 'ADVB':\n",
    "        word_pos = 'ADV'\n",
    "    \n",
    "    #готовое слово вида слово_ЧАСТЬРЕЧИ для most_similar\n",
    "    word = w + '_' + word_pos\n",
    "    \n",
    "    if word in model:\n",
    "        #поиск ближайшего по векторам слова\n",
    "        similar_word_in_model = model.most_similar(word, topn=1)[0][0]\n",
    "        similar_word = similar_word_in_model.split('_')[0] + ' '\n",
    "        sentence_new += similar_word \n",
    "    else:\n",
    "        #вывод служебных слов\n",
    "        sentence_new += w + ' '\n",
    "        \n",
    "print(sentence_new)"
   ]
  },
  {
   "cell_type": "markdown",
   "id": "e3215073-78fc-4fbd-b825-c45f074fbe8b",
   "metadata": {},
   "source": [
    "Низкая школа экономическая, как и низкая математическая, имеет мало отдельного с низкой логической. "
   ]
  },
  {
   "cell_type": "markdown",
   "id": "14dda1f5-7125-487c-8f0f-6b36144037f6",
   "metadata": {},
   "source": [
    "#### 3.2. TF-IDF"
   ]
  },
  {
   "cell_type": "markdown",
   "id": "4fa1839e-6913-431a-a4dc-098557501bec",
   "metadata": {},
   "source": [
    "**1. Возьмите статьи (20-100) из Википедии на разные темы (например, про города, страны, математику, историю, языки), подготовьте для построения TF-IDF (лемматизируйте)**\n",
    "\n",
    "Я взяла 40 статей на 5 тем (живопись, страны, языки, физика, музыкальные группы)."
   ]
  },
  {
   "cell_type": "code",
   "execution_count": 233,
   "id": "7c0733d2-35bb-4f88-aba6-372d4c4a27b7",
   "metadata": {},
   "outputs": [],
   "source": [
    "articles_texts = []\n",
    "articles_names = []\n",
    "files = os.listdir('./wikiarticles')\n",
    "for fname in files:\n",
    "    with open(f\"./wikiarticles/{fname}\", \"r\", encoding=\"utf-8\") as f:\n",
    "        #список с текстами всех статей\n",
    "        articles_texts.append(\"\\n\".join(f.readlines()))\n",
    "        #будем вытаскивать отсюда названия файлов\n",
    "        articles_names.append(fname)\n",
    "\n",
    "#подготовка текстов \n",
    "articles_preprocessed = []\n",
    "for a_text in articles_texts:\n",
    "    a_text = a_text.replace(\"[править | править код]\", \"\")\n",
    "    a_text = a_text.replace(\"[показать]\", \"\")\n",
    "    lemmas = m.lemmatize(a_text)\n",
    "    words = [w.lower() for w in lemmas if w.isalpha()]\n",
    "    ready_text = ' '.join(words)\n",
    "    articles_preprocessed.append(ready_text)"
   ]
  },
  {
   "cell_type": "markdown",
   "id": "65d6b706-5dca-47ce-a133-f587174f11a4",
   "metadata": {},
   "source": [
    "**2. Постройте TF-IDF для статей. Параметры от 1 до 3 слов (ngram_range=(1,3)), встретились минимум 3 раза (min_df=3).**"
   ]
  },
  {
   "cell_type": "code",
   "execution_count": 234,
   "id": "8e783857-760e-414f-9425-46eb07793866",
   "metadata": {},
   "outputs": [
    {
     "name": "stdout",
     "output_type": "stream",
     "text": [
      "Матрица на 40 документов и 6922 термов\n"
     ]
    }
   ],
   "source": [
    "stops = stopwords.words(\"russian\")\n",
    "tfidf = TfidfVectorizer(\n",
    "    analyzer=\"word\", \n",
    "    stop_words=stops, \n",
    "    ngram_range = (1,3),\n",
    "    min_df=3\n",
    ")\n",
    "\n",
    "#построение tf-idf для статей\n",
    "articles_tfidf = tfidf.fit_transform(articles_preprocessed)\n",
    "print(f\"Матрица на {articles_tfidf.shape[0]} документов и {articles_tfidf.shape[1]} термов\")"
   ]
  },
  {
   "cell_type": "markdown",
   "id": "8d65e54f-a4f4-4b0c-bdf5-1b77e0e9f9e1",
   "metadata": {},
   "source": [
    "**3. Выделите для статей ключевые слова, покажите их и оцените, насколько это соответствует их содержанию и вашим ожиданиям.**"
   ]
  },
  {
   "cell_type": "code",
   "execution_count": 236,
   "id": "bcf1e429-e09c-41d2-81bf-198b3849cd8f",
   "metadata": {},
   "outputs": [
    {
     "name": "stdout",
     "output_type": "stream",
     "text": [
      "Имя файла:  czech.txt\n",
      "Ключевые слова:  ['чешский' 'язык' 'число' 'род' 'ед число' 'мн число' 'падеж' 'ед'\n",
      " 'согласный' 'лицо'] \n",
      "\n",
      "Имя файла:  cubism.txt\n",
      "Ключевые слова:  ['кубизм' 'пикассо' 'художник' 'искусство' 'картина' 'год' 'форма' 'брак'\n",
      " 'живопись' 'аполлинер'] \n",
      "\n",
      "Имя файла:  belarusian.txt\n",
      "Ключевые слова:  ['белорусский' 'белорусский язык' 'язык' 'слово' 'наречие' 'числительное'\n",
      " 'год' 'местоимение' 'русский' 'говор'] \n",
      "\n",
      "Имя файла:  sbpch.txt\n",
      "Ключевые слова:  ['альбом' 'кирилл' 'год' 'группа' 'простой' 'запись' 'игрушка'\n",
      " 'самый большой' 'музыкант' 'большой'] \n",
      "\n",
      "Имя файла:  swedish.txt\n",
      "Ключевые слова:  ['шведский' 'слушать' 'язык' 'диалект' 'швеция' 'финляндия'\n",
      " 'существительное' 'артикль' 'стандартный' 'en'] \n",
      "\n",
      "Имя файла:  postmodern.txt\n",
      "Ключевые слова:  ['общество' 'индустриальный' 'социальный' 'эпоха' 'понятие' 'производство'\n",
      " 'период' 'культура' 'который' 'исторический период'] \n",
      "\n",
      "Имя файла:  bulgarian.txt\n",
      "Ключевые слова:  ['болгарский' 'язык' 'сто' 'форма' 'глагол' 'болгария' 'славянский'\n",
      " 'русский' 'искать' 'артикль'] \n",
      "\n",
      "Имя файла:  bi2.txt\n",
      "Ключевые слова:  ['би' 'песня' 'альбом' 'год' 'воин' 'клип' 'группа' 'сингл' 'концерт'\n",
      " 'музыкант'] \n",
      "\n",
      "Имя файла:  ukranian.txt\n",
      "Ключевые слова:  ['украинский' 'язык' 'украинский язык' 'глагол' 'говор' 'согласный'\n",
      " 'число' 'наречие' 'форма' 'русский'] \n",
      "\n",
      "Имя файла:  redvelvet.txt\n",
      "Ключевые слова:  ['альбом' 'мини альбом' 'мини' 'группа' 'the' 'сингл' 'выпускать'\n",
      " 'festival' 'трек' 'японский'] \n",
      "\n",
      "Имя файла:  queen.txt\n",
      "Ключевые слова:  ['queen' 'альбом' 'группа' 'год' 'концерт' 'песня' 'the' 'rock' 'at'\n",
      " 'концертный'] \n",
      "\n",
      "Имя файла:  czechcountry.txt\n",
      "Ключевые слова:  ['чехия' 'чешский' 'год' 'население' 'прага' 'край' 'страна' 'орган'\n",
      " 'республика' 'городской'] \n",
      "\n",
      "Имя файла:  russian.txt\n",
      "Ключевые слова:  ['русский' 'язык' 'русский язык' 'падеж' 'форма' 'говор' 'глагол' 'род'\n",
      " 'слово' 'число'] \n",
      "\n",
      "Имя файла:  french.txt\n",
      "Ключевые слова:  ['французский' 'язык' 'французский язык' 'un' 'глагол' 'слово' 'la' 'le'\n",
      " 'гласный' 'местоимение'] \n",
      "\n",
      "Имя файла:  pointilism.txt\n",
      "Ключевые слова:  ['синьяк' 'писсарро' 'поль' 'жорж' 'серый' 'сера' 'художник' 'гранд'\n",
      " 'живопись' 'гавань'] \n",
      "\n",
      "Имя файла:  italy.txt\n",
      "Ключевые слова:  ['италия' 'год' 'итальянский' 'страна' 'население' 'нато' 'крупный'\n",
      " 'военный' 'транспорт' 'республика'] \n",
      "\n",
      "Имя файла:  abstact_expressionsim.txt\n",
      "Ключевые слова:  ['абстрактный' 'абстрактный экспрессионизм' 'художник' 'марк'\n",
      " 'экспрессионизм' 'живопись' 'роберт' 'направление' 'скульптор' 'ричард'] \n",
      "\n",
      "Имя файла:  abba.txt\n",
      "Ключевые слова:  ['альбом' 'песня' 'группа' 'год' 'сингл' 'the' 'шведский' 'чарт' 'хит'\n",
      " 'становиться'] \n",
      "\n",
      "Имя файла:  popart.txt\n",
      "Ключевые слова:  ['выставка' 'искусство' 'художник' 'год' 'галерея' 'американский'\n",
      " 'культура' 'роберт' 'массовый' 'работа'] \n",
      "\n",
      "Имя файла:  english.txt\n",
      "Ключевые слова:  ['язык' 'английский' 'английский язык' 'диалект' 'слово' 'глагол'\n",
      " 'германский' 'британский' 'латы' 'предложение'] \n",
      "\n",
      "Имя файла:  ukrain.txt\n",
      "Ключевые слова:  ['украина' 'год' 'украинский' 'of' 'киев' 'население' 'svg' 'территория'\n",
      " 'область' 'вооруженный'] \n",
      "\n",
      "Имя файла:  radiohead.txt\n",
      "Ключевые слова:  ['radiohead' 'альбом' 'год' 'песня' 'the' 'группа' 'концерт' 'музыкант'\n",
      " 'in' 'грэмми'] \n",
      "\n",
      "Имя файла:  realism.txt\n",
      "Ключевые слова:  ['реализм' 'натурализм' 'живопись' 'искусство' 'направление' 'реальность'\n",
      " 'романтизм' 'художник' 'бретон' 'художественный'] \n",
      "\n",
      "Имя файла:  surrealism.txt\n",
      "Ключевые слова:  ['сюрреализм' 'год' 'бретон' 'сюрреалистический' 'эрнст' 'художник'\n",
      " 'андре' 'андре бретон' 'макс эрнст' 'живопись'] \n",
      "\n",
      "Имя файла:  physics5.txt\n",
      "Ключевые слова:  ['уравнение' 'кинетический' 'функция распределение' 'столкновение'\n",
      " 'распределение' 'газ' 'импульс' 'функция' 'коэффициент' 'жидкость'] \n",
      "\n",
      "Имя файла:  physics4.txt\n",
      "Ключевые слова:  ['молекулярный' 'физика' 'взаимодействие' 'тело' 'теория' 'вещество'\n",
      " 'физический' 'статистический' 'метод' 'твердый тело'] \n",
      "\n",
      "Имя файла:  dadaism.txt\n",
      "Ключевые слова:  ['коллаж' 'дадаизм' 'германия' 'искусство' 'франция' 'художник'\n",
      " 'макс эрнст' 'эрнст' 'берлин' 'марсель'] \n",
      "\n",
      "Имя файла:  physics6.txt\n",
      "Ключевые слова:  ['жидкость' 'физика' 'боголюбов' 'теория' 'жидкий' 'фишер' 'уравнение'\n",
      " 'статистический' 'состояние' 'изучаться'] \n",
      "\n",
      "Имя файла:  3oh!3.txt\n",
      "Ключевые слова:  ['альбом' 'gold' 'совместно' 'want' 'сингл' 'my' 'выпускать' 'of'\n",
      " 'billboard' 'you'] \n",
      "\n",
      "Имя файла:  italian.txt\n",
      "Ключевые слова:  ['итальянский' 'язык' 'гласный' 'диалект' 'литературный' 'романский'\n",
      " 'слог' 'италия' 'глагол' 'слово'] \n",
      "\n",
      "Имя файла:  dajtetank.txt\n",
      "Ключевые слова:  ['альбом' 'дмитрий' 'панк' 'рок' 'группа' 'гитара' 'александр'\n",
      " 'бывший участник' 'название' 'русский'] \n",
      "\n",
      "Имя файла:  physics3.txt\n",
      "Ключевые слова:  ['физика' 'нейтрон' 'displaystyle' 'ядро' 'частица' 'элементарный частица'\n",
      " 'pi' 'содержать' 'элементарный' 'взаимодействие'] \n",
      "\n",
      "Имя файла:  physics2.txt\n",
      "Ключевые слова:  ['displaystyle' 'right' 'энергия' 'статистический' 'механика' 'система'\n",
      " 'состояние' 'статистический механика' 'ансамбль' 'термодинамический'] \n",
      "\n",
      "Имя файла:  belarusia.txt\n",
      "Ключевые слова:  ['белоруссия' 'год' 'белорусский' 'республика' 'государственный' 'тыс'\n",
      " 'население' 'минск' 'территория' 'президент'] \n",
      "\n",
      "Имя файла:  portuguese.txt\n",
      "Ключевые слова:  ['португальский' 'язык' 'гласный' 'испанский' 'португалия' 'романский'\n",
      " 'арабский' 'слово' 'век' 'год'] \n",
      "\n",
      "Имя файла:  impressionism.txt\n",
      "Ключевые слова:  ['импрессионизм' 'импрессионист' 'художник' 'писсарро' 'впечатление'\n",
      " 'выставка' 'краска' 'картина' 'клод' 'адрес'] \n",
      "\n",
      "Имя файла:  france.txt\n",
      "Ключевые слова:  ['франция' 'французский' 'год' 'партия' 'страна' 'париж' 'суд'\n",
      " 'территория' 'источник' 'статья'] \n",
      "\n",
      "Имя файла:  physics1.txt\n",
      "Ключевые слова:  ['квантовый' 'физика' 'свойство' 'магнитный' 'теория' 'материал'\n",
      " 'электронный' 'фазовый' 'фазовый переход' 'состояние'] \n",
      "\n",
      "Имя файла:  uvula.txt\n",
      "Ключевые слова:  ['алексей' 'совместно' 'альбом' 'группа' 'твой' 'год' 'рок' 'александр'\n",
      " 'фестиваль' 'ждать'] \n",
      "\n",
      "Имя файла:  theneighbourhood.txt\n",
      "Ключевые слова:  ['альбом' 'the' 'us' 'love' 'you' 'records' 'выпускать' 'выход' 'чарт'\n",
      " 'год'] \n",
      "\n"
     ]
    }
   ],
   "source": [
    "def get_top_tf_idf_words(tfidf_vector, feature_names, top_n):\n",
    "    sorted_nzs = np.argsort(tfidf_vector.data)[:-(top_n+1):-1]\n",
    "    return feature_names[tfidf_vector.indices[sorted_nzs]]\n",
    "\n",
    "feature_names = np.array(tfidf.get_feature_names())\n",
    "\n",
    "for i, article in enumerate(articles_texts):\n",
    "    article_vector = articles_tfidf[i, :]\n",
    "    words = get_top_tf_idf_words(article_vector, feature_names, 10)\n",
    "    print(\"Имя файла: \", articles_names[i])\n",
    "    print(\"Ключевые слова: \", words, \"\\n\")"
   ]
  },
  {
   "cell_type": "markdown",
   "id": "401a2968-193f-481c-818d-e18a28ac4579",
   "metadata": {},
   "source": [
    "Ключевые слова для каждой статьи соответствуют и моим ожиданиям, и её содержанию.\n",
    "\n",
    "Из неожиданных и не соответствующих - ключевое слово 'тыс' для статьи про Беларусь (сокращение от 'тысяч'), и часто встречающиеся в разных статьях в качестве ключевых слов 'год', 'of', 'the'. Эти слова не являются ключевыми и не передают содержание статьи. Они попадают в список ключевых для текста из-за большой частотности в этом тексте."
   ]
  },
  {
   "cell_type": "markdown",
   "id": "fc78c31c-7443-4421-9b92-7cb539ed4528",
   "metadata": {},
   "source": [
    "**4. Визуализация TF-IDF вектора текстов с помощью PCA**"
   ]
  },
  {
   "cell_type": "code",
   "execution_count": 237,
   "id": "ac57a916-649d-42da-8738-1d01d27b5ee6",
   "metadata": {},
   "outputs": [
    {
     "name": "stdout",
     "output_type": "stream",
     "text": [
      "1 - czech.txt\n",
      "2 - cubism.txt\n",
      "3 - belarusian.txt\n",
      "4 - sbpch.txt\n",
      "5 - swedish.txt\n",
      "6 - postmodern.txt\n",
      "7 - bulgarian.txt\n",
      "8 - bi2.txt\n",
      "9 - ukranian.txt\n",
      "10 - redvelvet.txt\n",
      "11 - queen.txt\n",
      "12 - czechcountry.txt\n",
      "13 - russian.txt\n",
      "14 - french.txt\n",
      "15 - pointilism.txt\n",
      "16 - italy.txt\n",
      "17 - abstact_expressionsim.txt\n",
      "18 - abba.txt\n",
      "19 - popart.txt\n",
      "20 - english.txt\n",
      "21 - ukrain.txt\n",
      "22 - radiohead.txt\n",
      "23 - realism.txt\n",
      "24 - surrealism.txt\n",
      "25 - physics5.txt\n",
      "26 - physics4.txt\n",
      "27 - dadaism.txt\n",
      "28 - physics6.txt\n",
      "29 - 3oh!3.txt\n",
      "30 - italian.txt\n",
      "31 - dajtetank.txt\n",
      "32 - physics3.txt\n",
      "33 - physics2.txt\n",
      "34 - belarusia.txt\n",
      "35 - portuguese.txt\n",
      "36 - impressionism.txt\n",
      "37 - france.txt\n",
      "38 - physics1.txt\n",
      "39 - uvula.txt\n",
      "40 - theneighbourhood.txt\n"
     ]
    },
    {
     "data": {
      "image/png": "[encoded data removed]",
      "text/plain": [
       "<Figure size 576x576 with 1 Axes>"
      ]
     },
     "metadata": {
      "needs_background": "light"
     },
     "output_type": "display_data"
    }
   ],
   "source": [
    "articles_data = pd.DataFrame(articles_tfidf.toarray()).values.tolist() #вектора текстов\n",
    "\n",
    "X = articles_data\n",
    "pca = PCA(n_components = 2)\n",
    "coords = pca.fit_transform(X)\n",
    "plt.figure(figsize=(8, 8))\n",
    "plt.scatter(coords[:, 0], coords[:, 1], color='blue')\n",
    "plt.title('Articles')\n",
    "\n",
    "for i in range(articles_tfidf.shape[0]):\n",
    "    plt.annotate(i+1, xy=(coords[i, 0], coords[i, 1]), fontsize=12, xytext = (3, 3), textcoords='offset points')\n",
    "    print(i+1,'-', articles_names[i]) \n",
    "plt.show()"
   ]
  },
  {
   "cell_type": "markdown",
   "id": "41505bae-9969-4d57-9749-aee0802d6d8a",
   "metadata": {},
   "source": [
    "**Правда ли, что похожие тексты находятся рядом?**\n",
    "\n",
    "Рассмотрим области \"скопления\" точек на графике.\n",
    "\n",
    "В первой области (из тех, что мы собираемся рассмотреть) близко друг к другу расположены точки 1, 3, 5, 7, 9, 13, 14, 20, 30, 35. Каждая из точек соответствует статье, связанной с каким-то языком (см. \"легенду\" над графиком, в которой для каждой цифры указано название документа/статьи).\n",
    "Причем можно даже проследить некоторую закономерность в расположении точек относительно того, к какой языковой группе принадлежит язык, которому посвящена статья. Так на графике точки 7, 1 и 3 расположены друг к другу ближе, чем к остальным. Это статьи, посвященный славянским языкам. Ту же закономерность можно увидеть на примере точек 9 и 13 (славянские языки восточной подгруппы), а также 30 и 14 (романские языки).\n",
    "\n",
    "Во второй области мы видим скопление точек 12, 21 и 34 - это статьи про Чехию, Украину и Беларусь. Чуть выше - точки 16 и 37, статьи про Италию и Францию. То есть статьи про страны группируются таким же образом, как и статьи про соответствующие языки, только в другой области на графике.\n",
    "\n",
    "Выше этого скопления - точка 6, статья про постмодерн. Предполагалось, что она будет ближе к точкам статей про искусство, однако, она оказалась отдельно от них, ниже на графике. \n",
    "\n",
    "Самое высокое на графике скопление точек - статьи про физику (25, 26, 28, 32, 33, 38). И, почему-то, очень близко к статьям про физику находятся статьи про искусство (2, 15, 17, 19, 23, 24, 27, 36).\n",
    "\n",
    "Скопление статей в правом нижнем углу - статьи про музыкальные группы (4, 8, 10, 11, 18, 22, 29, 31, 39, 40)\n",
    "\n",
    "Таким образом, **гипотеза о том, что тексты с похожей тематикой находятся рядом, подтвердилась**.\n"
   ]
  },
  {
   "cell_type": "markdown",
   "id": "fd6c6950-f58e-4b09-9cdd-01bc533d30c7",
   "metadata": {},
   "source": [
    "### 4 часть."
   ]
  },
  {
   "cell_type": "markdown",
   "id": "a4e9fc73-0dc1-45b5-a7fd-d4394de85c15",
   "metadata": {},
   "source": [
    "**1. Попробуйте разобраться с параметром token_pattern, как задать параметр так, чтобы числа не попадали в словарь?**"
   ]
  },
  {
   "cell_type": "markdown",
   "id": "76040ab6-0fa6-4546-80d3-d9298b1ac8a8",
   "metadata": {},
   "source": [
    "Параметр token_pattern задается с помощью регулярного выражения. По умолчанию token pattern = '(?u)\\b\\w\\w+\\b'. С помощью этой регулярки находятся слова, состоящие из двух и более знаков, не содержащие знаки препинания но (!) содержащие цифры или состоящие из них полностью. \n",
    "\n",
    "Следовательно, чтобы исключить числа из словаря, нужно написать такое регулярное выражение для параметра token_pattern, которое бы исключало числа из поиска."
   ]
  },
  {
   "cell_type": "code",
   "execution_count": 238,
   "id": "e4a8a80c-9d89-4d9a-ac62-4311080819de",
   "metadata": {},
   "outputs": [],
   "source": [
    "#cделать это можно, например, вот так:\n",
    "tfidf = TfidfVectorizer(\n",
    "    analyzer='word', \n",
    "    token_pattern = '(?u)\\b[^\\d\\W]+\\b'\n",
    ")"
   ]
  },
  {
   "cell_type": "markdown",
   "id": "b396c15e-c475-4a52-8425-853815038b07",
   "metadata": {},
   "source": [
    "**2. Прочитайте про метрику cosine_similarity в sklearn. С помощью нее постройте матрицу схожести текстов на основе их векторов.\n",
    "Возьмите один из текстов и выведите тексты, которые наиболее на него похожи**"
   ]
  },
  {
   "cell_type": "code",
   "execution_count": 241,
   "id": "6ba851d8-bd8e-4dd9-9cca-ead7fd2e0ecd",
   "metadata": {},
   "outputs": [
    {
     "name": "stdout",
     "output_type": "stream",
     "text": [
      "1\n",
      "34\n",
      "21\n"
     ]
    }
   ],
   "source": [
    "def max_cosine_similarity(data, article_number):\n",
    "    #создаем матрицу схожести текстов на основе их векторов\n",
    "    cos_sim = cosine_similarity(data, data)\n",
    "    \n",
    "    #из списка будем вытаскивать максимальные значения близости для текста\n",
    "    sentence_cos_sim = list(cos_sim[article_number-1])\n",
    "    #article_number - номер текста для нас, (article_number-1) - индекс текста в списке\n",
    "    \n",
    "    for i in range(0,4):\n",
    "        max_number = max(sentence_cos_sim)\n",
    "        sim_article_index = sentence_cos_sim.index(max_number)\n",
    "\n",
    "        #приравниваем к 0, чтобы в дальнейшем нам выдавались другие значения, к-е меньше этого, но больше остальных\n",
    "        sentence_cos_sim[sim_article_index] = 0\n",
    "\n",
    "        #max_number в цикле будет сначал выдавать тот же cos_sim[article_number-1]\n",
    "        #поскольку для него значение будет максимально и равно 1 (ведь это один и тот же текст)\n",
    "        #так что мы исключаем эту ситуацию\n",
    "        if sim_article_index != article_number-1:\n",
    "            print(sim_article_index+1)\n",
    "        \n",
    "max_cosine_similarity(articles_data, 12)"
   ]
  },
  {
   "cell_type": "markdown",
   "id": "73db296c-2a54-42a7-90a6-2f4ada566683",
   "metadata": {},
   "source": [
    "См. пункт 4 части 3.2\n",
    "К тексту 12 (про Чехию) действительно близки текста 21 и 34 (они про другие страны), как и текст 1 (он про чешский язык)"
   ]
  },
  {
   "cell_type": "markdown",
   "id": "d50412a2-d66a-4049-a2cd-6132de0067e4",
   "metadata": {},
   "source": [
    "**3. Прочитайте про seaborn clustermap и попробуйте визуализировать матрицу близости.**"
   ]
  },
  {
   "cell_type": "markdown",
   "id": "aae996e6-d084-4218-bd81-209a2cd4dd1b",
   "metadata": {},
   "source": [
    "Тут я пыталась, но не получилось, не успела"
   ]
  },
  {
   "cell_type": "code",
   "execution_count": 244,
   "id": "fb6df290-1aa3-4d94-872d-0364b24d78fd",
   "metadata": {},
   "outputs": [
    {
     "ename": "TypeError",
     "evalue": "float() argument must be a string or a number, not 'LineSentence'",
     "output_type": "error",
     "traceback": [
      "\u001b[0;31m---------------------------------------------------------------------------\u001b[0m",
      "\u001b[0;31mTypeError\u001b[0m                                 Traceback (most recent call last)",
      "Input \u001b[0;32mIn [244]\u001b[0m, in \u001b[0;36m<module>\u001b[0;34m\u001b[0m\n\u001b[0;32m----> 1\u001b[0m cos_sim \u001b[38;5;241m=\u001b[39m \u001b[43mcosine_similarity\u001b[49m\u001b[43m(\u001b[49m\u001b[43mdata\u001b[49m\u001b[43m,\u001b[49m\u001b[43m \u001b[49m\u001b[43mdata\u001b[49m\u001b[43m)\u001b[49m\n\u001b[1;32m      2\u001b[0m sim_sns \u001b[38;5;241m=\u001b[39m pd\u001b[38;5;241m.\u001b[39mDataFrame(cos_sim, columns \u001b[38;5;241m=\u001b[39m articles_names, index \u001b[38;5;241m=\u001b[39m articles_names)\n\u001b[1;32m      3\u001b[0m sns\u001b[38;5;241m.\u001b[39mclustermap(data \u001b[38;5;241m=\u001b[39m sim_sns)\n",
      "File \u001b[0;32m/Library/Frameworks/Python.framework/Versions/3.9/lib/python3.9/site-packages/sklearn/metrics/pairwise.py:1377\u001b[0m, in \u001b[0;36mcosine_similarity\u001b[0;34m(X, Y, dense_output)\u001b[0m\n\u001b[1;32m   1342\u001b[0m \u001b[38;5;124;03m\"\"\"Compute cosine similarity between samples in X and Y.\u001b[39;00m\n\u001b[1;32m   1343\u001b[0m \n\u001b[1;32m   1344\u001b[0m \u001b[38;5;124;03mCosine similarity, or the cosine kernel, computes similarity as the\u001b[39;00m\n\u001b[0;32m   (...)\u001b[0m\n\u001b[1;32m   1373\u001b[0m \u001b[38;5;124;03m    Returns the cosine similarity between samples in X and Y.\u001b[39;00m\n\u001b[1;32m   1374\u001b[0m \u001b[38;5;124;03m\"\"\"\u001b[39;00m\n\u001b[1;32m   1375\u001b[0m \u001b[38;5;66;03m# to avoid recursive import\u001b[39;00m\n\u001b[0;32m-> 1377\u001b[0m X, Y \u001b[38;5;241m=\u001b[39m \u001b[43mcheck_pairwise_arrays\u001b[49m\u001b[43m(\u001b[49m\u001b[43mX\u001b[49m\u001b[43m,\u001b[49m\u001b[43m \u001b[49m\u001b[43mY\u001b[49m\u001b[43m)\u001b[49m\n\u001b[1;32m   1379\u001b[0m X_normalized \u001b[38;5;241m=\u001b[39m normalize(X, copy\u001b[38;5;241m=\u001b[39m\u001b[38;5;28;01mTrue\u001b[39;00m)\n\u001b[1;32m   1380\u001b[0m \u001b[38;5;28;01mif\u001b[39;00m X \u001b[38;5;129;01mis\u001b[39;00m Y:\n",
      "File \u001b[0;32m/Library/Frameworks/Python.framework/Versions/3.9/lib/python3.9/site-packages/sklearn/metrics/pairwise.py:155\u001b[0m, in \u001b[0;36mcheck_pairwise_arrays\u001b[0;34m(X, Y, precomputed, dtype, accept_sparse, force_all_finite, copy)\u001b[0m\n\u001b[1;32m    146\u001b[0m     X \u001b[38;5;241m=\u001b[39m Y \u001b[38;5;241m=\u001b[39m check_array(\n\u001b[1;32m    147\u001b[0m         X,\n\u001b[1;32m    148\u001b[0m         accept_sparse\u001b[38;5;241m=\u001b[39maccept_sparse,\n\u001b[0;32m   (...)\u001b[0m\n\u001b[1;32m    152\u001b[0m         estimator\u001b[38;5;241m=\u001b[39mestimator,\n\u001b[1;32m    153\u001b[0m     )\n\u001b[1;32m    154\u001b[0m \u001b[38;5;28;01melse\u001b[39;00m:\n\u001b[0;32m--> 155\u001b[0m     X \u001b[38;5;241m=\u001b[39m \u001b[43mcheck_array\u001b[49m\u001b[43m(\u001b[49m\n\u001b[1;32m    156\u001b[0m \u001b[43m        \u001b[49m\u001b[43mX\u001b[49m\u001b[43m,\u001b[49m\n\u001b[1;32m    157\u001b[0m \u001b[43m        \u001b[49m\u001b[43maccept_sparse\u001b[49m\u001b[38;5;241;43m=\u001b[39;49m\u001b[43maccept_sparse\u001b[49m\u001b[43m,\u001b[49m\n\u001b[1;32m    158\u001b[0m \u001b[43m        \u001b[49m\u001b[43mdtype\u001b[49m\u001b[38;5;241;43m=\u001b[39;49m\u001b[43mdtype\u001b[49m\u001b[43m,\u001b[49m\n\u001b[1;32m    159\u001b[0m \u001b[43m        \u001b[49m\u001b[43mcopy\u001b[49m\u001b[38;5;241;43m=\u001b[39;49m\u001b[43mcopy\u001b[49m\u001b[43m,\u001b[49m\n\u001b[1;32m    160\u001b[0m \u001b[43m        \u001b[49m\u001b[43mforce_all_finite\u001b[49m\u001b[38;5;241;43m=\u001b[39;49m\u001b[43mforce_all_finite\u001b[49m\u001b[43m,\u001b[49m\n\u001b[1;32m    161\u001b[0m \u001b[43m        \u001b[49m\u001b[43mestimator\u001b[49m\u001b[38;5;241;43m=\u001b[39;49m\u001b[43mestimator\u001b[49m\u001b[43m,\u001b[49m\n\u001b[1;32m    162\u001b[0m \u001b[43m    \u001b[49m\u001b[43m)\u001b[49m\n\u001b[1;32m    163\u001b[0m     Y \u001b[38;5;241m=\u001b[39m check_array(\n\u001b[1;32m    164\u001b[0m         Y,\n\u001b[1;32m    165\u001b[0m         accept_sparse\u001b[38;5;241m=\u001b[39maccept_sparse,\n\u001b[0;32m   (...)\u001b[0m\n\u001b[1;32m    169\u001b[0m         estimator\u001b[38;5;241m=\u001b[39mestimator,\n\u001b[1;32m    170\u001b[0m     )\n\u001b[1;32m    172\u001b[0m \u001b[38;5;28;01mif\u001b[39;00m precomputed:\n",
      "File \u001b[0;32m/Library/Frameworks/Python.framework/Versions/3.9/lib/python3.9/site-packages/sklearn/utils/validation.py:856\u001b[0m, in \u001b[0;36mcheck_array\u001b[0;34m(array, accept_sparse, accept_large_sparse, dtype, order, copy, force_all_finite, ensure_2d, allow_nd, ensure_min_samples, ensure_min_features, estimator, input_name)\u001b[0m\n\u001b[1;32m    854\u001b[0m         array \u001b[38;5;241m=\u001b[39m array\u001b[38;5;241m.\u001b[39mastype(dtype, casting\u001b[38;5;241m=\u001b[39m\u001b[38;5;124m\"\u001b[39m\u001b[38;5;124munsafe\u001b[39m\u001b[38;5;124m\"\u001b[39m, copy\u001b[38;5;241m=\u001b[39m\u001b[38;5;28;01mFalse\u001b[39;00m)\n\u001b[1;32m    855\u001b[0m     \u001b[38;5;28;01melse\u001b[39;00m:\n\u001b[0;32m--> 856\u001b[0m         array \u001b[38;5;241m=\u001b[39m \u001b[43mnp\u001b[49m\u001b[38;5;241;43m.\u001b[39;49m\u001b[43masarray\u001b[49m\u001b[43m(\u001b[49m\u001b[43marray\u001b[49m\u001b[43m,\u001b[49m\u001b[43m \u001b[49m\u001b[43morder\u001b[49m\u001b[38;5;241;43m=\u001b[39;49m\u001b[43morder\u001b[49m\u001b[43m,\u001b[49m\u001b[43m \u001b[49m\u001b[43mdtype\u001b[49m\u001b[38;5;241;43m=\u001b[39;49m\u001b[43mdtype\u001b[49m\u001b[43m)\u001b[49m\n\u001b[1;32m    857\u001b[0m \u001b[38;5;28;01mexcept\u001b[39;00m ComplexWarning \u001b[38;5;28;01mas\u001b[39;00m complex_warning:\n\u001b[1;32m    858\u001b[0m     \u001b[38;5;28;01mraise\u001b[39;00m \u001b[38;5;167;01mValueError\u001b[39;00m(\n\u001b[1;32m    859\u001b[0m         \u001b[38;5;124m\"\u001b[39m\u001b[38;5;124mComplex data not supported\u001b[39m\u001b[38;5;130;01m\\n\u001b[39;00m\u001b[38;5;132;01m{}\u001b[39;00m\u001b[38;5;130;01m\\n\u001b[39;00m\u001b[38;5;124m\"\u001b[39m\u001b[38;5;241m.\u001b[39mformat(array)\n\u001b[1;32m    860\u001b[0m     ) \u001b[38;5;28;01mfrom\u001b[39;00m \u001b[38;5;21;01mcomplex_warning\u001b[39;00m\n",
      "\u001b[0;31mTypeError\u001b[0m: float() argument must be a string or a number, not 'LineSentence'"
     ]
    }
   ],
   "source": [
    "cos_sim = cosine_similarity(data, data)\n",
    "sim_sns = pd.DataFrame(cos_sim, columns = articles_names, index = articles_names)\n",
    "sns.clustermap(data = sim_sns)"
   ]
  },
  {
   "cell_type": "markdown",
   "id": "4bb4e4ba-2c46-4800-8672-1d87aff8164e",
   "metadata": {},
   "source": [
    "А тут что-то получилось, но, кажется, не совсем то"
   ]
  },
  {
   "cell_type": "code",
   "execution_count": 248,
   "id": "0ec79f8e-4c27-4766-9aa8-f27c7f9b4880",
   "metadata": {},
   "outputs": [
    {
     "data": {
      "text/plain": [
       "<seaborn.matrix.ClusterGrid at 0x7ff451e9c100>"
      ]
     },
     "execution_count": 248,
     "metadata": {},
     "output_type": "execute_result"
    },
    {
     "data": {
      "image/png": "[encoded data removed]",
      "text/plain": [
       "<Figure size 720x720 with 4 Axes>"
      ]
     },
     "metadata": {
      "needs_background": "light"
     },
     "output_type": "display_data"
    }
   ],
   "source": [
    "sns.clustermap(cos_sim)"
   ]
  },
  {
   "cell_type": "code",
   "execution_count": null,
   "id": "d227ab82-a8e6-4234-a2b5-9d5db50817e5",
   "metadata": {},
   "outputs": [],
   "source": []
  }
 ],
 "metadata": {
  "kernelspec": {
   "display_name": "Python 3 (ipykernel)",
   "language": "python",
   "name": "python3"
  },
  "language_info": {
   "codemirror_mode": {
    "name": "ipython",
    "version": 3
   },
   "file_extension": ".py",
   "mimetype": "text/x-python",
   "name": "python",
   "nbconvert_exporter": "python",
   "pygments_lexer": "ipython3",
   "version": "3.9.7"
  }
 },
 "nbformat": 4,
 "nbformat_minor": 5
}
